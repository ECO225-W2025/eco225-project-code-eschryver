{
 "cells": [
  {
   "cell_type": "markdown",
   "metadata": {},
   "source": [
    "# The Effect of Municipal Permitting on Local Housing Markets"
   ]
  },
  {
   "cell_type": "markdown",
   "metadata": {},
   "source": [
    "## Introduction\n"
   ]
  },
  {
   "cell_type": "markdown",
   "metadata": {},
   "source": [
    "I am using the **Fannie Mae and Freddie Mac** data. I'm interested to look at the lending data as a proxy for housing sales, and to analyze either the effects of municipal permitting on housing markets on a MSA-to-MSA level, or look at how the ownership structure of housing differs between \"high opportunity\" and \"low opportunity\" areas."
   ]
  },
  {
   "cell_type": "markdown",
   "metadata": {},
   "source": [
    "## Data Loading"
   ]
  },
  {
   "cell_type": "markdown",
   "metadata": {},
   "source": [
    "Because the data is in ``.txt`` format, with no column headers, and is in many different files for different years and loan types, significant data cleaning is required. To begin, we set up short titles for each column based on the data dictionary provided."
   ]
  },
  {
   "cell_type": "code",
   "execution_count": 5,
   "metadata": {},
   "outputs": [
    {
     "data": {
      "text/html": [
       "<div>\n",
       "<style scoped>\n",
       "    .dataframe tbody tr th:only-of-type {\n",
       "        vertical-align: middle;\n",
       "    }\n",
       "\n",
       "    .dataframe tbody tr th {\n",
       "        vertical-align: top;\n",
       "    }\n",
       "\n",
       "    .dataframe thead th {\n",
       "        text-align: right;\n",
       "    }\n",
       "</style>\n",
       "<table border=\"1\" class=\"dataframe\">\n",
       "  <thead>\n",
       "    <tr style=\"text-align: right;\">\n",
       "      <th></th>\n",
       "      <th>flag</th>\n",
       "      <th>record_no</th>\n",
       "      <th>postal_code</th>\n",
       "      <th>msa_code</th>\n",
       "      <th>cty_code</th>\n",
       "      <th>tract</th>\n",
       "      <th>pct_minority</th>\n",
       "      <th>median_inc_tract</th>\n",
       "      <th>ami</th>\n",
       "      <th>tract_inc_ratio</th>\n",
       "      <th>...</th>\n",
       "      <th>28</th>\n",
       "      <th>29</th>\n",
       "      <th>30</th>\n",
       "      <th>31</th>\n",
       "      <th>32</th>\n",
       "      <th>33</th>\n",
       "      <th>34</th>\n",
       "      <th>35</th>\n",
       "      <th>36</th>\n",
       "      <th>38</th>\n",
       "    </tr>\n",
       "  </thead>\n",
       "  <tbody>\n",
       "    <tr>\n",
       "      <th>0</th>\n",
       "      <td>2</td>\n",
       "      <td>1</td>\n",
       "      <td>37</td>\n",
       "      <td>20500</td>\n",
       "      <td>63</td>\n",
       "      <td>1708</td>\n",
       "      <td>90.17</td>\n",
       "      <td>82543</td>\n",
       "      <td>91167</td>\n",
       "      <td>0.9054</td>\n",
       "      <td>...</td>\n",
       "      <td>9</td>\n",
       "      <td>0</td>\n",
       "      <td>1</td>\n",
       "      <td>0</td>\n",
       "      <td>0</td>\n",
       "      <td>0</td>\n",
       "      <td>0</td>\n",
       "      <td>0</td>\n",
       "      <td>0</td>\n",
       "      <td>0</td>\n",
       "    </tr>\n",
       "    <tr>\n",
       "      <th>1</th>\n",
       "      <td>2</td>\n",
       "      <td>2</td>\n",
       "      <td>12</td>\n",
       "      <td>33100</td>\n",
       "      <td>86</td>\n",
       "      <td>9904</td>\n",
       "      <td>98.03</td>\n",
       "      <td>44931</td>\n",
       "      <td>73392</td>\n",
       "      <td>0.6122</td>\n",
       "      <td>...</td>\n",
       "      <td>9</td>\n",
       "      <td>100</td>\n",
       "      <td>1</td>\n",
       "      <td>0</td>\n",
       "      <td>0</td>\n",
       "      <td>0</td>\n",
       "      <td>0</td>\n",
       "      <td>0</td>\n",
       "      <td>0</td>\n",
       "      <td>0</td>\n",
       "    </tr>\n",
       "    <tr>\n",
       "      <th>2</th>\n",
       "      <td>2</td>\n",
       "      <td>3</td>\n",
       "      <td>47</td>\n",
       "      <td>32820</td>\n",
       "      <td>157</td>\n",
       "      <td>6500</td>\n",
       "      <td>98.76</td>\n",
       "      <td>46375</td>\n",
       "      <td>72130</td>\n",
       "      <td>0.6429</td>\n",
       "      <td>...</td>\n",
       "      <td>9</td>\n",
       "      <td>100</td>\n",
       "      <td>1</td>\n",
       "      <td>0</td>\n",
       "      <td>1</td>\n",
       "      <td>0</td>\n",
       "      <td>0</td>\n",
       "      <td>1</td>\n",
       "      <td>0</td>\n",
       "      <td>0</td>\n",
       "    </tr>\n",
       "    <tr>\n",
       "      <th>3</th>\n",
       "      <td>2</td>\n",
       "      <td>4</td>\n",
       "      <td>45</td>\n",
       "      <td>24860</td>\n",
       "      <td>45</td>\n",
       "      <td>2821</td>\n",
       "      <td>29.70</td>\n",
       "      <td>96463</td>\n",
       "      <td>75341</td>\n",
       "      <td>1.2804</td>\n",
       "      <td>...</td>\n",
       "      <td>9</td>\n",
       "      <td>0</td>\n",
       "      <td>1</td>\n",
       "      <td>0</td>\n",
       "      <td>0</td>\n",
       "      <td>0</td>\n",
       "      <td>0</td>\n",
       "      <td>0</td>\n",
       "      <td>0</td>\n",
       "      <td>0</td>\n",
       "    </tr>\n",
       "    <tr>\n",
       "      <th>4</th>\n",
       "      <td>2</td>\n",
       "      <td>5</td>\n",
       "      <td>48</td>\n",
       "      <td>12420</td>\n",
       "      <td>209</td>\n",
       "      <td>10919</td>\n",
       "      <td>68.38</td>\n",
       "      <td>75045</td>\n",
       "      <td>105379</td>\n",
       "      <td>0.7121</td>\n",
       "      <td>...</td>\n",
       "      <td>9</td>\n",
       "      <td>0</td>\n",
       "      <td>1</td>\n",
       "      <td>0</td>\n",
       "      <td>0</td>\n",
       "      <td>0</td>\n",
       "      <td>0</td>\n",
       "      <td>0</td>\n",
       "      <td>0</td>\n",
       "      <td>0</td>\n",
       "    </tr>\n",
       "  </tbody>\n",
       "</table>\n",
       "<p>5 rows × 37 columns</p>\n",
       "</div>"
      ],
      "text/plain": [
       "   flag  record_no  postal_code  msa_code  cty_code  tract  pct_minority  \\\n",
       "0     2          1           37     20500        63   1708         90.17   \n",
       "1     2          2           12     33100        86   9904         98.03   \n",
       "2     2          3           47     32820       157   6500         98.76   \n",
       "3     2          4           45     24860        45   2821         29.70   \n",
       "4     2          5           48     12420       209  10919         68.38   \n",
       "\n",
       "   median_inc_tract     ami  tract_inc_ratio  ...  28   29  30  31  32  33  \\\n",
       "0             82543   91167           0.9054  ...   9    0   1   0   0   0   \n",
       "1             44931   73392           0.6122  ...   9  100   1   0   0   0   \n",
       "2             46375   72130           0.6429  ...   9  100   1   0   1   0   \n",
       "3             96463   75341           1.2804  ...   9    0   1   0   0   0   \n",
       "4             75045  105379           0.7121  ...   9    0   1   0   0   0   \n",
       "\n",
       "   34  35  36  38  \n",
       "0   0   0   0   0  \n",
       "1   0   0   0   0  \n",
       "2   0   1   0   0  \n",
       "3   0   0   0   0  \n",
       "4   0   0   0   0  \n",
       "\n",
       "[5 rows x 37 columns]"
      ]
     },
     "execution_count": 5,
     "metadata": {},
     "output_type": "execute_result"
    }
   ],
   "source": [
    "import pandas as pd\n",
    "cols = [\"flag\",\"record_no\",\"postal_code\",\"msa_code\",\"cty_code\", \"tract\",\"pct_minority\",\"median_inc_tract\",\"ami\",\"tract_inc_ratio\",\"amfi\",\"upb\",\"purpose\",\"seller_type\",\"guarantee\",\"lien_status\",\"LTV\",\"date\",\"term_at_org\",\"num_of_units\",\"int_rate\",\"note_amt\",\"prop_val\",\"pre_pen\",\"balloon\",\"26\",\"27\",\"28\",\"29\",\"30\",\"31\",\"32\",\"33\",\"34\",\"35\",\"36\",\"38\"]\n",
    "df = pd.read_csv('data/fhlmc_mf2023c_loans.txt', sep=r'\\s+', header=None, names = cols)"
   ]
  },
  {
   "cell_type": "code",
   "execution_count": 6,
   "metadata": {},
   "outputs": [
    {
     "data": {
      "text/plain": [
       "ami      109510.588371\n",
       "tract    133945.958799\n",
       "dtype: float64"
      ]
     },
     "execution_count": 6,
     "metadata": {},
     "output_type": "execute_result"
    }
   ],
   "source": [
    "df[[\"ami\",\"tract\"]].mean()"
   ]
  },
  {
   "cell_type": "markdown",
   "metadata": {},
   "source": [
    "## Summary Statistics"
   ]
  },
  {
   "cell_type": "markdown",
   "metadata": {},
   "source": [
    "## Plots \\& Figures"
   ]
  },
  {
   "cell_type": "markdown",
   "metadata": {},
   "source": [
    "## Conclusion"
   ]
  }
 ],
 "metadata": {
  "kernelspec": {
   "display_name": "Python 3",
   "language": "python",
   "name": "python3"
  },
  "language_info": {
   "codemirror_mode": {
    "name": "ipython",
    "version": 3
   },
   "file_extension": ".py",
   "mimetype": "text/x-python",
   "name": "python",
   "nbconvert_exporter": "python",
   "pygments_lexer": "ipython3",
   "version": "3.13.0"
  }
 },
 "nbformat": 4,
 "nbformat_minor": 2
}
