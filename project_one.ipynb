{
 "cells": [
  {
   "cell_type": "markdown",
   "metadata": {},
   "source": [
    "# Blockbusting in the 21st Century?: Minority Move-ins and Neighborhood Home Value Appreciation"
   ]
  },
  {
   "cell_type": "markdown",
   "metadata": {},
   "source": [
    "## Introduction\n"
   ]
  },
  {
   "cell_type": "markdown",
   "metadata": {},
   "source": [
    "I am using the [**Fannie Mae (FNMA) \\& Freddie Mac (FHLMC)**](https://web.archive.org/web/20240914151448/https://www.fhfa.gov/data/single-family-census-tract-file) data to analyze the demographics of move-ins on a census-tract level. This, with the census-level demographic data [**(ACS)**](https://www.nhgis.org/), can provide an estimate of a quantity of minority \"move-ins\". I am seeing the extent to which this has an effect on the appreciation in home values [(**Zillow ZHVI**)](https://www.zillow.com/research/data/)\n",
    "\n",
    "My **y-variable** is census-tract property value appreciation. My main **explanatory variables** are minority move-ins and previous neighborhood demographics. I will be controlling for income."
   ]
  },
  {
   "cell_type": "markdown",
   "metadata": {},
   "source": [
    "## Data Loading"
   ]
  },
  {
   "cell_type": "markdown",
   "metadata": {},
   "source": [
    "We start by loading libraries. For dataframes we are using `pandas`, for plots we are using `pyplot` from `matplotlib`."
   ]
  },
  {
   "cell_type": "code",
   "execution_count": 6,
   "metadata": {},
   "outputs": [],
   "source": [
    "import pandas as pd\n",
    "import matplotlib.pyplot as plt"
   ]
  },
  {
   "cell_type": "markdown",
   "metadata": {},
   "source": [
    "Because the data is in ``.txt`` format, with no column headers, and is in many different files for different years and loan types, some light data cleaning is required. To begin, we set up short titles for each column based on the data dictionary provided, and create a list of columns we do not need."
   ]
  },
  {
   "cell_type": "code",
   "execution_count": 2,
   "metadata": {},
   "outputs": [],
   "source": [
    "cols = [\n",
    "    \"enterprise_flag\",\n",
    "    \"record_number\",\n",
    "    \"state_fips\",\n",
    "    \"msa_code\",\n",
    "    \"county_fips\",\n",
    "    \"census_tract\",\n",
    "    \"tract_pct_minority\",\n",
    "    \"tract_median_income\",\n",
    "    \"local_median_income\",\n",
    "    \"tract_income_ratio\",\n",
    "    \"borrower_income\",\n",
    "    \"area_median_income\",\n",
    "    \"borrower_income_ratio\",\n",
    "    \"upb_acquisition\",\n",
    "    \"purpose\",\n",
    "    \"fed_guarantee\",\n",
    "    \"num_borrowers\",\n",
    "    \"first_time_homebuyer\",\n",
    "    \"borrower_race\",\n",
    "    \"borrower_ethnicity\",\n",
    "    \"coborrower_race\",\n",
    "    \"coborrower_ethnicity\",\n",
    "    \"borrower_gender\",\n",
    "    \"coborrower_gender\",\n",
    "    \"borrwer_age\",\n",
    "    \"coborrower_age\",\n",
    "    \"occupancy_code\",\n",
    "    \"rate_spread\",\n",
    "    \"hoepa_status\",\n",
    "    \"property_type\",\n",
    "    \"lien_status\",\n",
    "    \"borrower_over_62\",\n",
    "    \"co_borrower_over_62\",\n",
    "    \"ltv\",\n",
    "    \"date_of_note\",\n",
    "    \"term_at_org\",\n",
    "    \"num_of_units\",\n",
    "    \"interest_rate_at_org\",\n",
    "    \"note_amount\",\n",
    "    \"preapproval\",\n",
    "    \"application_channel\",\n",
    "    \"aus_name\",\n",
    "    \"borrower_credit_score_model\",\n",
    "    \"coborrower_credit_score_model\",\n",
    "    \"dti_ratio\",\n",
    "    \"discount_pts\",\n",
    "    \"intro_period\",\n",
    "    \"land_prop_interest\",\n",
    "    \"property_value\",\n",
    "    \"rural_tract\",\n",
    "    \"lower_ms_delta\",\n",
    "    \"middle_appalachia\",\n",
    "    \"persistent_poverty\",\n",
    "    \"concentrated_poverty\",\n",
    "    \"high_opportunity\",\n",
    "    \"qoz_tract\",\n",
    "]\n",
    "dropcols = [\n",
    "    \"enterprise_flag\",\n",
    "    \"record_number\",\n",
    "    \"borrower_income\",\n",
    "    \"upb_acquisition\",\n",
    "    \"purpose\",\n",
    "    \"fed_guarantee\",\n",
    "    \"rate_spread\",\n",
    "    \"hoepa_status\",\n",
    "    \"property_type\",\n",
    "    \"lien_status\",\n",
    "    \"borrower_over_62\",\n",
    "    \"co_borrower_over_62\",\n",
    "    \"ltv\",\n",
    "    \"term_at_org\",\n",
    "    \"num_of_units\",\n",
    "    \"interest_rate_at_org\",\n",
    "    \"preapproval\",\n",
    "    \"application_channel\",\n",
    "    \"aus_name\",\n",
    "    \"borrower_credit_score_model\",\n",
    "    \"coborrower_credit_score_model\",\n",
    "    \"discount_pts\",\n",
    "    \"intro_period\",\n",
    "    \"land_prop_interest\",\n",
    "    \"rural_tract\",\n",
    "    \"lower_ms_delta\",\n",
    "    \"middle_appalachia\",\n",
    "    \"persistent_poverty\",\n",
    "    \"concentrated_poverty\",\n",
    "    \"high_opportunity\",\n",
    "    \"qoz_tract\",\n",
    "]\n",
    "cols_pre2018 = [\n",
    "    \"enterprise_flag\",\n",
    "    \"record_number\",\n",
    "    \"state_fips\",\n",
    "    \"msa_code\",\n",
    "    \"county_fips\",\n",
    "    \"census_tract\",\n",
    "    \"tract_pct_minority\",\n",
    "    \"tract_median_income\",\n",
    "    \"local_median_income\",\n",
    "    \"tract_income_ratio\",\n",
    "    \"borrower_income\",\n",
    "    \"area_median_income\",\n",
    "    \"borrower_income_ratio\",\n",
    "    \"upb_acquisition\",\n",
    "    \"purpose\",\n",
    "    \"fed_guarantee\",\n",
    "    \"num_borrowers\",\n",
    "    \"first_time_homebuyer\",\n",
    "    \"borrower_race\",\n",
    "    \"borrower_ethnicity\",\n",
    "    \"coborrower_race\",\n",
    "    \"coborrower_ethnicity\",\n",
    "    \"borrower_gender\",\n",
    "    \"coborrower_gender\",\n",
    "    \"borrwer_age\",\n",
    "    \"coborrower_age\",\n",
    "    \"occupancy_code\",\n",
    "    \"rate_spread\",\n",
    "    \"hoepa_status\",\n",
    "    \"property_type\",\n",
    "    \"lien_status\",\n",
    "]\n",
    "dropcols_pre2018 = [\n",
    "    \"enterprise_flag\",\n",
    "    \"record_number\",\n",
    "    \"borrower_income\",\n",
    "    \"upb_acquisition\",\n",
    "    \"purpose\",\n",
    "    \"fed_guarantee\",\n",
    "    \"rate_spread\",\n",
    "    \"hoepa_status\",\n",
    "    \"property_type\",\n",
    "    \"lien_status\",\n",
    "]"
   ]
  },
  {
   "cell_type": "markdown",
   "metadata": {},
   "source": [
    "Next, we load in the census data to give us information about neighborhood demographics"
   ]
  },
  {
   "cell_type": "code",
   "execution_count": 9,
   "metadata": {},
   "outputs": [],
   "source": [
    "cols_tract = ['YEAR', 'TRACTA','U7J001', 'U7J002', 'U7J003', 'U7J004', 'U7J005', 'U7J006', 'U7J007', 'U7J008']\n",
    "tract_data = pd.read_csv('data/census/nhgis0009_ds258_2020_tract.csv')[cols_tract]\n",
    "tract_data.rename(columns={\n",
    "    'YEAR': 'year', \n",
    "    'TRACTA': 'census_tract', \n",
    "    'U7J001': 'total_pop', \n",
    "    'U7J002': 'white', \n",
    "    'U7J003': 'black', \n",
    "    'U7J004': 'native_american', \n",
    "    'U7J005': 'asian', \n",
    "    'U7J006': 'pacific_islander', \n",
    "    'U7J007': 'other_race', \n",
    "    'U7J008': 'two_or_more'}, inplace=True)"
   ]
  },
  {
   "cell_type": "markdown",
   "metadata": {},
   "source": [
    "Next, we load in the Zillow data for information about home prices"
   ]
  },
  {
   "cell_type": "code",
   "execution_count": 3,
   "metadata": {},
   "outputs": [],
   "source": [
    "zhvi = pd.read_csv('data/zhvi/Zip_zhvi_uc_sfrcondo_tier_0.33_0.67_sm_sa_month (1).csv')"
   ]
  },
  {
   "cell_type": "markdown",
   "metadata": {},
   "source": [
    "The Zillow data is based on zip-code, but all our other data is based on census tract. As a result, we use a Crosswalk File from HUD."
   ]
  },
  {
   "cell_type": "code",
   "execution_count": 10,
   "metadata": {},
   "outputs": [],
   "source": [
    "crosswalk = pd.read_excel('data/census/ZIP_TRACT_122024.xlsx')"
   ]
  },
  {
   "cell_type": "code",
   "execution_count": null,
   "metadata": {},
   "outputs": [],
   "source": [
    "# loans groupby census tract merge into crosswalk\n",
    "# crosswalk find high and low minority move-ins, etc?\n",
    "# merge with zhvi"
   ]
  },
  {
   "cell_type": "markdown",
   "metadata": {},
   "source": [
    "## Summary Statistics"
   ]
  },
  {
   "cell_type": "markdown",
   "metadata": {},
   "source": [
    "One potentially interesting summary statistic is the quantity of loans in 2023 in each metropolitan area. We use ``groupby`` to look at each individual MSA and the count of entries in the table for each to define ``vol_by_msa`` which is the loan volume in each MSA."
   ]
  },
  {
   "cell_type": "code",
   "execution_count": 22,
   "metadata": {},
   "outputs": [
    {
     "data": {
      "text/html": [
       "<div>\n",
       "<style scoped>\n",
       "    .dataframe tbody tr th:only-of-type {\n",
       "        vertical-align: middle;\n",
       "    }\n",
       "\n",
       "    .dataframe tbody tr th {\n",
       "        vertical-align: top;\n",
       "    }\n",
       "\n",
       "    .dataframe thead th {\n",
       "        text-align: right;\n",
       "    }\n",
       "</style>\n",
       "<table border=\"1\" class=\"dataframe\">\n",
       "  <thead>\n",
       "    <tr style=\"text-align: right;\">\n",
       "      <th></th>\n",
       "      <th>tract_median_income</th>\n",
       "      <th>borrower_income</th>\n",
       "      <th>property_appraisal_value</th>\n",
       "    </tr>\n",
       "  </thead>\n",
       "  <tbody>\n",
       "    <tr>\n",
       "      <th>count</th>\n",
       "      <td>2.879458e+07</td>\n",
       "      <td>2.879458e+07</td>\n",
       "      <td>2.879458e+07</td>\n",
       "    </tr>\n",
       "    <tr>\n",
       "      <th>mean</th>\n",
       "      <td>9.504369e+04</td>\n",
       "      <td>1.485997e+05</td>\n",
       "      <td>4.968570e+05</td>\n",
       "    </tr>\n",
       "    <tr>\n",
       "      <th>std</th>\n",
       "      <td>4.900241e+04</td>\n",
       "      <td>5.525392e+06</td>\n",
       "      <td>8.679106e+06</td>\n",
       "    </tr>\n",
       "    <tr>\n",
       "      <th>min</th>\n",
       "      <td>2.499000e+03</td>\n",
       "      <td>0.000000e+00</td>\n",
       "      <td>5.000000e+03</td>\n",
       "    </tr>\n",
       "    <tr>\n",
       "      <th>25%</th>\n",
       "      <td>6.794800e+04</td>\n",
       "      <td>6.700000e+04</td>\n",
       "      <td>2.450000e+05</td>\n",
       "    </tr>\n",
       "    <tr>\n",
       "      <th>50%</th>\n",
       "      <td>8.800000e+04</td>\n",
       "      <td>1.000000e+05</td>\n",
       "      <td>3.650000e+05</td>\n",
       "    </tr>\n",
       "    <tr>\n",
       "      <th>75%</th>\n",
       "      <td>1.134200e+05</td>\n",
       "      <td>1.480000e+05</td>\n",
       "      <td>5.250000e+05</td>\n",
       "    </tr>\n",
       "    <tr>\n",
       "      <th>max</th>\n",
       "      <td>9.999990e+05</td>\n",
       "      <td>9.540000e+09</td>\n",
       "      <td>1.000000e+09</td>\n",
       "    </tr>\n",
       "  </tbody>\n",
       "</table>\n",
       "</div>"
      ],
      "text/plain": [
       "       tract_median_income  borrower_income  property_appraisal_value\n",
       "count         2.879458e+07     2.879458e+07              2.879458e+07\n",
       "mean          9.504369e+04     1.485997e+05              4.968570e+05\n",
       "std           4.900241e+04     5.525392e+06              8.679106e+06\n",
       "min           2.499000e+03     0.000000e+00              5.000000e+03\n",
       "25%           6.794800e+04     6.700000e+04              2.450000e+05\n",
       "50%           8.800000e+04     1.000000e+05              3.650000e+05\n",
       "75%           1.134200e+05     1.480000e+05              5.250000e+05\n",
       "max           9.999990e+05     9.540000e+09              1.000000e+09"
      ]
     },
     "execution_count": 22,
     "metadata": {},
     "output_type": "execute_result"
    }
   ],
   "source": [
    "loans[['tract_median_income', 'borrower_income', 'property_appraisal_value']].describe()"
   ]
  },
  {
   "cell_type": "markdown",
   "metadata": {},
   "source": [
    "## Plots \\& Figures"
   ]
  },
  {
   "cell_type": "code",
   "execution_count": 16,
   "metadata": {},
   "outputs": [
    {
     "data": {
      "text/plain": [
       "<Axes: ylabel='Frequency'>"
      ]
     },
     "execution_count": 16,
     "metadata": {},
     "output_type": "execute_result"
    },
    {
     "data": {
      "image/png": "[encoded data removed]",
      "text/plain": [
       "<Figure size 700x400 with 1 Axes>"
      ]
     },
     "metadata": {},
     "output_type": "display_data"
    }
   ],
   "source": [
    "loans.groupby('census_tract_2020')[\"borrower_income\"].mean().sort_values(ascending=False).plot(kind='hist', figsize=(7, 4))"
   ]
  },
  {
   "cell_type": "code",
   "execution_count": 17,
   "metadata": {},
   "outputs": [],
   "source": [
    "# vol_by_msa.head(10).plot(kind='bar', figsize=(7, 4))\n",
    "# plt.title('Top 10 MSAs by 2023 Multifamily Loan Count')\n",
    "# plt.xlabel('MSA Code')\n",
    "# plt.ylabel('Loan Count')\n",
    "# plt.show()"
   ]
  },
  {
   "cell_type": "code",
   "execution_count": 18,
   "metadata": {},
   "outputs": [],
   "source": [
    "# msa_filtered = mf_loans_2023[mf_loans_2023['msa_name'].isin([\"'Omaha-Council Bluffs, NE-IA MSA'\", \"'Kansas City, MO-KS MSA'\"])]\n",
    "# msa_filtered.groupby('msa_name')[\"prop_val\"].mean().sort_values(ascending=False).plot(kind='bar', figsize=(7, 4))\n",
    "# plt.title('Average Multifamily Property Value for Selected MSAs, 2023')\n",
    "# plt.xlabel('MSA Name')\n",
    "# plt.ylabel('Average Property Value')\n",
    "# plt.show()"
   ]
  },
  {
   "cell_type": "code",
   "execution_count": 19,
   "metadata": {},
   "outputs": [],
   "source": [
    "# msas_2023_values = sf_loans_2023.groupby('Metropolitan Statistical Area (MSA) Code')[\"Property Valuation Amount\"].mean().sort_values(ascending=False)\n",
    "# msas_2018_values = sf_loans_2018.groupby('Metropolitan Statistical Area (MSA) Code')[\"Property Valuation Amount\"].mean().sort_values(ascending=False)\n",
    "# msa_values_by_year = pd.concat([msas_2023_values, msas_2018_values], axis=1)\n",
    "# msa_values_by_year.columns = ['2023', '2018']\n",
    "# plt.scatter(msa_values_by_year['2023'], msa_values_by_year['2018'])\n",
    "# plt.xlabel('2023 Property Valuation Amount')\n",
    "# plt.ylabel('2018 Property Valuation Amount')\n",
    "# plt.title('Property Valuation Amount Comparison: 2023 vs 2018')\n",
    "# plt.show()"
   ]
  },
  {
   "cell_type": "code",
   "execution_count": 20,
   "metadata": {},
   "outputs": [],
   "source": [
    "# msa_value_change = msa_values_by_year['2023'] - msa_values_by_year['2018']\n",
    "# msa_value_change.sort_values(ascending=False).plot(kind='hist', figsize=(7, 4))\n",
    "# plt.title('Change in Property Valuation Amount by MSA: 2023 vs 2018')\n",
    "# plt.xlabel('Change in Property Valuation Amount')\n",
    "# plt.ylabel('Count')"
   ]
  },
  {
   "cell_type": "markdown",
   "metadata": {},
   "source": [
    "## Conclusion"
   ]
  },
  {
   "cell_type": "markdown",
   "metadata": {},
   "source": [
    "# References\n",
    "Steven Manson, Jonathan Schroeder, David Van Riper, Katherine Knowles, Tracy Kugler, Finn Roberts, and Steven Ruggles. IPUMS National Historical Geographic Information System: Version 19.0 [dataset]. Minneapolis, MN: IPUMS. 2024. http://doi.org/10.18128/D050.V19.0"
   ]
  }
 ],
 "metadata": {
  "kernelspec": {
   "display_name": "Python 3",
   "language": "python",
   "name": "python3"
  },
  "language_info": {
   "codemirror_mode": {
    "name": "ipython",
    "version": 3
   },
   "file_extension": ".py",
   "mimetype": "text/x-python",
   "name": "python",
   "nbconvert_exporter": "python",
   "pygments_lexer": "ipython3",
   "version": "3.13.0"
  }
 },
 "nbformat": 4,
 "nbformat_minor": 2
}
