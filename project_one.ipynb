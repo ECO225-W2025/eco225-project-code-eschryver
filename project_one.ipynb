{
 "cells": [
  {
   "cell_type": "markdown",
   "metadata": {},
   "source": [
    "Blockbusting in the 21st Century?: Minority Move-ins and Neighborhood Home Value Appreciation\n",
    "==="
   ]
  },
  {
   "cell_type": "markdown",
   "metadata": {},
   "source": [
    "## Introduction\n"
   ]
  },
  {
   "cell_type": "markdown",
   "metadata": {},
   "source": [
    "I am using the [**Fannie Mae (FNMA) \\& Freddie Mac (FHLMC)**](https://web.archive.org/web/20240914151448/https://www.fhfa.gov/data/single-family-census-tract-file) data to analyze the demographics of move-ins on a census-tract level. This, with the census-level demographic data [**(ACS)**](https://www.nhgis.org/), can provide an estimate of a quantity of minority \"move-ins\". I am seeing the extent to which this has an effect on the appreciation in home values [(**Zillow ZHVI**)](https://www.zillow.com/research/data/)\n",
    "\n",
    "My **y-variable** is census-tract property value appreciation. My main **explanatory variables** are minority move-ins and previous neighborhood demographics. I will be controlling for income."
   ]
  },
  {
   "cell_type": "markdown",
   "metadata": {},
   "source": [
    "## Data Loading"
   ]
  },
  {
   "cell_type": "markdown",
   "metadata": {},
   "source": [
    "We start by loading libraries. For dataframes we are using `pandas`, for plots we are using `pyplot` from `matplotlib`."
   ]
  },
  {
   "cell_type": "code",
   "execution_count": 1,
   "metadata": {},
   "outputs": [],
   "source": [
    "import pandas as pd\n",
    "import matplotlib.pyplot as plt\n",
    "import numpy as np"
   ]
  },
  {
   "cell_type": "markdown",
   "metadata": {},
   "source": [
    "Because the data is in ``.txt`` format, with no column headers, and is in many different files for different years and loan types, some light data cleaning is required. To begin, we set up short titles for each column based on the data dictionary provided, and create a list of columns we do not need."
   ]
  },
  {
   "cell_type": "code",
   "execution_count": 2,
   "metadata": {},
   "outputs": [],
   "source": [
    "def read_columns_from_txt(filename):\n",
    "    data = {}\n",
    "    with open(filename, \"r\") as f:\n",
    "        for line in f:\n",
    "            key, value = line.split(\"=\", 1)\n",
    "            data[key.strip()] = eval(value.strip())\n",
    "    return data\n",
    "\n",
    "columns_data = read_columns_from_txt(\"data/columns.txt\")\n",
    "cols = columns_data[\"cols\"]\n",
    "cols_pre2018 = columns_data[\"cols_pre2018\"]\n",
    "dropcols = columns_data[\"dropcols\"]\n",
    "dropcols_pre2018 = columns_data[\"dropcols_pre2018\"]\n",
    "cols_2013 = columns_data[\"cols_2013\"]"
   ]
  },
  {
   "cell_type": "markdown",
   "metadata": {},
   "source": [
    "We next must load our data using these columns. I created a `load_loans` method to make it easier to modify the years we load. For this project, we are focusing on some of the earliest base years possible. In the future, I am interested in looking at moving base years."
   ]
  },
  {
   "cell_type": "code",
   "execution_count": 3,
   "metadata": {},
   "outputs": [],
   "source": [
    "def load_loans(years):\n",
    "    loans_list = []\n",
    "    for year in years:\n",
    "        if year >= 2018: # The data format changes in 2018\n",
    "            files = [f\"data/sf/fhlmc_sf{year}c_loans.txt\", f\"data/sf/fnma_sf{year}c_loans.txt\"]\n",
    "            loans_year = pd.concat(\n",
    "                [pd.read_csv(file, sep=r\"\\s+\", header=None, names=cols).drop(columns=dropcols) for file in files],\n",
    "                ignore_index=True\n",
    "            )\n",
    "        else:\n",
    "            files = [f\"data/sf/fhlmc_sf{year}c_loans.txt\", f\"data/sf/fnma_sf{year}c_loans.txt\"]\n",
    "            loans_year = pd.concat(\n",
    "                [pd.read_csv(file, sep=r\"\\s+\", header=None, names=cols_2013).drop(columns=dropcols_pre2018) for file in files],\n",
    "                ignore_index=True\n",
    "            )\n",
    "        loans_year[\"year\"] = year\n",
    "        loans_list.append(loans_year)\n",
    "        print(f\"Processed {year}\", end=\" \")\n",
    "    return pd.concat(loans_list, ignore_index=True)"
   ]
  },
  {
   "cell_type": "code",
   "execution_count": 4,
   "metadata": {},
   "outputs": [
    {
     "name": "stdout",
     "output_type": "stream",
     "text": [
      "Processed 2010 Processed 2011 Processed 2012 "
     ]
    }
   ],
   "source": [
    "loans = load_loans([2010, 2011, 2012]) # Please forgive the print statement! The full data can take upwards of 20 mins to load."
   ]
  },
  {
   "cell_type": "markdown",
   "metadata": {},
   "source": [
    "Next, we analyze each loan to determine how many \"minority move-ins\" it corresponds to."
   ]
  },
  {
   "cell_type": "code",
   "execution_count": 5,
   "metadata": {},
   "outputs": [],
   "source": [
    "# Define race and ethnicity sets\n",
    "races_set = {3}\n",
    "ethnicities_set = {1}\n",
    "\n",
    "# Extract relevant borrower and co-borrower race/ethnicity columns\n",
    "borrower_races = loans[[col for col in loans.columns if col.startswith(\"borrower_race\")]]\n",
    "coborrower_races = loans[[col for col in loans.columns if col.startswith(\"coborrower_race\")]]\n",
    "borrower_ethnicities = loans[[col for col in loans.columns if col.startswith(\"borrower_ethnicity\")]]\n",
    "coborrower_ethnicities = loans[[col for col in loans.columns if col.startswith(\"coborrower_ethnicity\")]]\n",
    "\n",
    "# Check if any race or ethnicity belongs to minority groups\n",
    "borrower_minority = borrower_races.isin(races_set).any(axis=1) | borrower_ethnicities.isin(ethnicities_set).any(axis=1)\n",
    "coborrower_minority = coborrower_races.isin(races_set).any(axis=1) | coborrower_ethnicities.isin(ethnicities_set).any(axis=1)\n",
    "\n",
    "# Assign values efficiently\n",
    "loans[\"minority_move_ins\"] = np.where(borrower_minority & coborrower_minority, 2,\n",
    "                                      np.where(borrower_minority | coborrower_minority, 1, 0))"
   ]
  },
  {
   "cell_type": "markdown",
   "metadata": {},
   "source": [
    "Finally, we add a column with the full census tract code for future merging"
   ]
  },
  {
   "cell_type": "code",
   "execution_count": 6,
   "metadata": {},
   "outputs": [],
   "source": [
    "loans['longtract'] = loans['state_fips'].astype(str).str.zfill(2) + loans['county_fips'].astype(str).str.zfill(3) + loans['census_tract'].astype(str).str.zfill(6)"
   ]
  },
  {
   "cell_type": "markdown",
   "metadata": {},
   "source": [
    "Next, we load in the census data to give us information about neighborhood demographics"
   ]
  },
  {
   "cell_type": "code",
   "execution_count": 7,
   "metadata": {},
   "outputs": [],
   "source": [
    "cols_tract = ['YEAR', 'ZCTAA','U7J001', 'U7J002', 'U7J003', 'U7J004', 'U7J005', 'U7J006', 'U7J007', 'U7J008']\n",
    "tract_data = pd.read_csv('data/census/nhgis0009_ds258_2020_zcta.csv')[cols_tract]\n",
    "tract_data.rename(columns={\n",
    "    'YEAR': 'year',\n",
    "    'ZCTAA': 'zip', \n",
    "    'U7J001': 'total_pop', \n",
    "    'U7J002': 'white', \n",
    "    'U7J003': 'black', \n",
    "    'U7J004': 'native_american', \n",
    "    'U7J005': 'asian', \n",
    "    'U7J006': 'pacific_islander', \n",
    "    'U7J007': 'other_race', \n",
    "    'U7J008': 'two_or_more'}, inplace=True)"
   ]
  },
  {
   "cell_type": "markdown",
   "metadata": {},
   "source": [
    "Next, we load in the Zillow data for information about home prices"
   ]
  },
  {
   "cell_type": "code",
   "execution_count": 8,
   "metadata": {},
   "outputs": [],
   "source": [
    "zhvi = pd.read_csv('data/zhvi/Zip_zhvi_uc_sfrcondo_tier_0.33_0.67_sm_sa_month (1).csv')"
   ]
  },
  {
   "cell_type": "markdown",
   "metadata": {},
   "source": [
    "The Zillow data is based on zip-code, but all our other data is based on census tract. As a result, we use a Crosswalk File from HUD."
   ]
  },
  {
   "cell_type": "code",
   "execution_count": 9,
   "metadata": {},
   "outputs": [],
   "source": [
    "crosswalk = pd.read_excel('data/census/ZIP_TRACT_122024.xlsx')"
   ]
  },
  {
   "cell_type": "markdown",
   "metadata": {},
   "source": [
    "Next, we merge the loan data into our crosswalk. We aggregate on each census tract."
   ]
  },
  {
   "cell_type": "code",
   "execution_count": 121,
   "metadata": {},
   "outputs": [],
   "source": [
    "loans_grouped = loans.groupby('longtract')['minority_move_ins'].sum().reset_index()\n",
    "loans_grouped = loans.groupby(['longtract', 'msa_code'])['minority_move_ins'].sum().reset_index()\n",
    "loans_grouped['longtract'] = loans_grouped['longtract'].astype(str).str.zfill(11)\n",
    "crosswalk['TRACT'] = crosswalk['TRACT'].astype(str).str.zfill(11)\n",
    "loans_crosswalk = loans_grouped.merge(crosswalk, left_on='longtract', right_on='TRACT', how='left')"
   ]
  },
  {
   "cell_type": "markdown",
   "metadata": {},
   "source": [
    "Now that we have loan data, we merge with our Census data."
   ]
  },
  {
   "cell_type": "code",
   "execution_count": 162,
   "metadata": {},
   "outputs": [
    {
     "name": "stderr",
     "output_type": "stream",
     "text": [
      "C:\\Users\\emers\\AppData\\Local\\Temp\\ipykernel_5900\\3251738381.py:5: UserWarning: Boolean Series key will be reindexed to match DataFrame index.\n",
      "  quite_white_hmmi = quite_white[((merged_data['minority_move_ins']* 1000) / merged_data['total_pop'] > 2)] # \"high minority move in\" = more than 2 per thousand\n"
     ]
    }
   ],
   "source": [
    "merged_data = loans_crosswalk.merge(tract_data, left_on='ZIP', right_on='zip', how='left')\n",
    "# Find areas that are quite white and have a high degree of minority move-ins\n",
    "threshold_white = 0.2  # We only look at areas that are majority white\n",
    "quite_white = merged_data[(merged_data['white'] / merged_data['total_pop'] > threshold_white)]\n",
    "quite_white_hmmi = quite_white[((merged_data['minority_move_ins']* 1000) / merged_data['total_pop'] > 2)] # \"high minority move in\" = more than 2 per thousand"
   ]
  },
  {
   "cell_type": "markdown",
   "metadata": {},
   "source": [
    "Now we merge Zillow data, and find the change in home values of an area from 2012 to 2023 (end of move-in data to present)"
   ]
  },
  {
   "cell_type": "code",
   "execution_count": 163,
   "metadata": {},
   "outputs": [],
   "source": [
    "merged_quite_white_zhvi = quite_white.merge(zhvi, left_on='zip', right_on='RegionName', how='left')\n",
    "merged_quite_white_zhvi['avg_value_2023'] = merged_quite_white_zhvi[['2023-10-31', '2023-11-30', '2023-12-31']].mean(axis=1)\n",
    "merged_quite_white_zhvi['avg_value_2012'] = merged_quite_white_zhvi[['2012-10-31', '2012-11-30', '2012-12-31']].mean(axis=1)\n",
    "merged_quite_white_zhvi['value_change'] = merged_quite_white_zhvi['avg_value_2023'] / merged_quite_white_zhvi['avg_value_2012'] - 1"
   ]
  },
  {
   "cell_type": "markdown",
   "metadata": {},
   "source": [
    "Next, we control for metropolitan area."
   ]
  },
  {
   "cell_type": "code",
   "execution_count": 164,
   "metadata": {},
   "outputs": [],
   "source": [
    "# Calculate the average value change per msa_code\n",
    "msa_avg_value_change = merged_quite_white_zhvi.groupby('msa_code')['value_change'].mean().reset_index()\n",
    "msa_avg_value_change.rename(columns={'value_change': 'msa_avg_value_change'}, inplace=True)\n",
    "# Merge the average value change back into the main dataframe\n",
    "merged_quite_white_zhvi = merged_quite_white_zhvi.merge(msa_avg_value_change, on='msa_code', how='left')\n",
    "merged_quite_white_zhvi = merged_quite_white_zhvi[merged_quite_white_zhvi['msa_code'] != 99999]"
   ]
  },
  {
   "cell_type": "code",
   "execution_count": 165,
   "metadata": {},
   "outputs": [],
   "source": [
    "merged_quite_white_zhvi = merged_quite_white_zhvi[['zip', 'total_pop', 'white', 'minority_move_ins', 'value_change', 'avg_value_2023', 'avg_value_2012', 'msa_avg_value_change']]\n",
    "merged_quite_white_zhvi.rename(columns={'2023-12-31': 'avg_value_2023', '2012-12-31': 'avg_value_2012'}, inplace=True)\n",
    "data_table = merged_quite_white_zhvi.groupby('zip').agg({'total_pop': 'sum', 'white': 'sum', 'minority_move_ins': 'sum', 'value_change': 'mean', 'avg_value_2023': 'mean', 'avg_value_2012': 'mean', 'msa_avg_value_change': 'mean'}).reset_index()\n",
    "data_table['mmi_per_thousand'] = (data_table['minority_move_ins'] * 1000) / data_table['total_pop']\n",
    "data_table['change_from_metro'] = data_table['value_change'] - data_table['msa_avg_value_change']\n",
    "filtered_data = data_table[(data_table['mmi_per_thousand'].abs() < 100)]"
   ]
  },
  {
   "cell_type": "markdown",
   "metadata": {},
   "source": [
    "We have now, finally loaded our data. We have our quantity of minority move-ins, previous demographic makeup of the neighborhood, previous home values, and home values after a few years. "
   ]
  },
  {
   "cell_type": "markdown",
   "metadata": {},
   "source": [
    "## Summary Statistics"
   ]
  },
  {
   "cell_type": "markdown",
   "metadata": {},
   "source": [
    "In our `filtered_data` table, we have information about our explanatory variables (demographics), our independent variables (initial property value), and our outcome variable (final property value)"
   ]
  },
  {
   "cell_type": "code",
   "execution_count": 148,
   "metadata": {},
   "outputs": [
    {
     "data": {
      "text/html": [
       "<style type=\"text/css\">\n",
       "#T_32f9a caption {\n",
       "  caption-side: top;\n",
       "  font-size: 20px;\n",
       "  font-style: italic;\n",
       "  text-align: center;\n",
       "  color: #222;\n",
       "}\n",
       "</style>\n",
       "<table id=\"T_32f9a\" style=\"width: 40%; margin: auto;\">\n",
       "  <caption>Table 2: Final Home Value Summary Statistics</caption>\n",
       "  <thead>\n",
       "    <tr>\n",
       "      <th class=\"blank level0\" >&nbsp;</th>\n",
       "      <th id=\"T_32f9a_level0_col0\" class=\"col_heading level0 col0\" >Average Property Value (2012, $)</th>\n",
       "      <th id=\"T_32f9a_level0_col1\" class=\"col_heading level0 col1\" >Average Property Value (2023, $)</th>\n",
       "      <th id=\"T_32f9a_level0_col2\" class=\"col_heading level0 col2\" >Change in Property Value (2012-2023, %)</th>\n",
       "      <th id=\"T_32f9a_level0_col3\" class=\"col_heading level0 col3\" >Change in Property Value - Difference from MSA Average (%)</th>\n",
       "    </tr>\n",
       "  </thead>\n",
       "  <tbody>\n",
       "    <tr>\n",
       "      <th id=\"T_32f9a_level0_row0\" class=\"row_heading level0 row0\" >Count</th>\n",
       "      <td id=\"T_32f9a_row0_col0\" class=\"data row0 col0\" >11,751.00</td>\n",
       "      <td id=\"T_32f9a_row0_col1\" class=\"data row0 col1\" >13,117.00</td>\n",
       "      <td id=\"T_32f9a_row0_col2\" class=\"data row0 col2\" >11,751.00</td>\n",
       "      <td id=\"T_32f9a_row0_col3\" class=\"data row0 col3\" >11,751.00</td>\n",
       "    </tr>\n",
       "    <tr>\n",
       "      <th id=\"T_32f9a_level0_row1\" class=\"row_heading level0 row1\" >Mean</th>\n",
       "      <td id=\"T_32f9a_row1_col0\" class=\"data row1 col0\" >199,922.87</td>\n",
       "      <td id=\"T_32f9a_row1_col1\" class=\"data row1 col1\" >387,009.50</td>\n",
       "      <td id=\"T_32f9a_row1_col2\" class=\"data row1 col2\" >1.08</td>\n",
       "      <td id=\"T_32f9a_row1_col3\" class=\"data row1 col3\" >0.00</td>\n",
       "    </tr>\n",
       "    <tr>\n",
       "      <th id=\"T_32f9a_level0_row2\" class=\"row_heading level0 row2\" >Standard Deviation</th>\n",
       "      <td id=\"T_32f9a_row2_col0\" class=\"data row2 col0\" >170,133.70</td>\n",
       "      <td id=\"T_32f9a_row2_col1\" class=\"data row2 col1\" >333,234.18</td>\n",
       "      <td id=\"T_32f9a_row2_col2\" class=\"data row2 col2\" >0.48</td>\n",
       "      <td id=\"T_32f9a_row2_col3\" class=\"data row2 col3\" >0.28</td>\n",
       "    </tr>\n",
       "    <tr>\n",
       "      <th id=\"T_32f9a_level0_row3\" class=\"row_heading level0 row3\" >Minimum</th>\n",
       "      <td id=\"T_32f9a_row3_col0\" class=\"data row3 col0\" >17,707.05</td>\n",
       "      <td id=\"T_32f9a_row3_col1\" class=\"data row3 col1\" >30,707.77</td>\n",
       "      <td id=\"T_32f9a_row3_col2\" class=\"data row3 col2\" >-0.48</td>\n",
       "      <td id=\"T_32f9a_row3_col3\" class=\"data row3 col3\" >-1.71</td>\n",
       "    </tr>\n",
       "    <tr>\n",
       "      <th id=\"T_32f9a_level0_row4\" class=\"row_heading level0 row4\" >25th Percentile</th>\n",
       "      <td id=\"T_32f9a_row4_col0\" class=\"data row4 col0\" >110,458.39</td>\n",
       "      <td id=\"T_32f9a_row4_col1\" class=\"data row4 col1\" >209,835.58</td>\n",
       "      <td id=\"T_32f9a_row4_col2\" class=\"data row4 col2\" >0.76</td>\n",
       "      <td id=\"T_32f9a_row4_col3\" class=\"data row4 col3\" >-0.14</td>\n",
       "    </tr>\n",
       "    <tr>\n",
       "      <th id=\"T_32f9a_level0_row5\" class=\"row_heading level0 row5\" >Median</th>\n",
       "      <td id=\"T_32f9a_row5_col0\" class=\"data row5 col0\" >154,434.90</td>\n",
       "      <td id=\"T_32f9a_row5_col1\" class=\"data row5 col1\" >301,752.04</td>\n",
       "      <td id=\"T_32f9a_row5_col2\" class=\"data row5 col2\" >0.99</td>\n",
       "      <td id=\"T_32f9a_row5_col3\" class=\"data row5 col3\" >-0.02</td>\n",
       "    </tr>\n",
       "    <tr>\n",
       "      <th id=\"T_32f9a_level0_row6\" class=\"row_heading level0 row6\" >75th Percentile</th>\n",
       "      <td id=\"T_32f9a_row6_col0\" class=\"data row6 col0\" >224,780.54</td>\n",
       "      <td id=\"T_32f9a_row6_col1\" class=\"data row6 col1\" >449,682.70</td>\n",
       "      <td id=\"T_32f9a_row6_col2\" class=\"data row6 col2\" >1.32</td>\n",
       "      <td id=\"T_32f9a_row6_col3\" class=\"data row6 col3\" >0.11</td>\n",
       "    </tr>\n",
       "    <tr>\n",
       "      <th id=\"T_32f9a_level0_row7\" class=\"row_heading level0 row7\" >Maximum</th>\n",
       "      <td id=\"T_32f9a_row7_col0\" class=\"data row7 col0\" >3,369,770.53</td>\n",
       "      <td id=\"T_32f9a_row7_col1\" class=\"data row7 col1\" >7,230,205.64</td>\n",
       "      <td id=\"T_32f9a_row7_col2\" class=\"data row7 col2\" >5.52</td>\n",
       "      <td id=\"T_32f9a_row7_col3\" class=\"data row7 col3\" >3.95</td>\n",
       "    </tr>\n",
       "    <tr>\n",
       "      <th id=\"T_32f9a_level0_row8\" class=\"row_heading level0 row8\" >Range</th>\n",
       "      <td id=\"T_32f9a_row8_col0\" class=\"data row8 col0\" >3,352,063.48</td>\n",
       "      <td id=\"T_32f9a_row8_col1\" class=\"data row8 col1\" >7,199,497.87</td>\n",
       "      <td id=\"T_32f9a_row8_col2\" class=\"data row8 col2\" >6.00</td>\n",
       "      <td id=\"T_32f9a_row8_col3\" class=\"data row8 col3\" >5.66</td>\n",
       "    </tr>\n",
       "  </tbody>\n",
       "</table>\n"
      ],
      "text/plain": [
       "<pandas.io.formats.style.Styler at 0x21848718890>"
      ]
     },
     "execution_count": 148,
     "metadata": {},
     "output_type": "execute_result"
    }
   ],
   "source": [
    "prop_values_summary = data_table[['avg_value_2012','avg_value_2023','value_change', 'change_from_metro']].describe().round(2)\n",
    "prop_values_summary.columns = ['Average Property Value (2012, $)','Average Property Value (2023, $)', 'Change in Property Value (2012-2023, %)', 'Change in Property Value - Difference from MSA Average (%)']\n",
    "prop_values_summary.index = ['Count', 'Mean', 'Standard Deviation', 'Minimum', '25th Percentile', 'Median', '75th Percentile', 'Maximum']\n",
    "prop_values_summary.loc['Range'] = prop_values_summary.loc['Maximum'] - prop_values_summary.loc['Minimum']\n",
    "prop_values_summary.loc['Count'] = prop_values_summary.loc['Count'].astype(int)\n",
    "\n",
    "# Styling\n",
    "styled_prop_vals = prop_values_summary.style.set_caption(\"Table 2: Final Home Value Summary Statistics\")\n",
    "\n",
    "# Apply table styles\n",
    "styled_prop_vals = styled_prop_vals.set_table_attributes('style=\"width: 40%; margin: auto;\"')\n",
    "\n",
    "# Apply formatting\n",
    "styled_prop_vals = styled_prop_vals.format({\n",
    "    'Change in Property Value (2012-2023, %)': '{:,.2f}',\n",
    "    'Average Property Value (2012, $)': '{:,.2f}',\n",
    "    'Average Property Value (2023, $)': '{:,.2f}',\n",
    "    'Change in Property Value - Difference from MSA Average (%)': '{:,.2f}'\n",
    "})\n",
    "\n",
    "# Caption formatting\n",
    "styled_prop_vals = styled_prop_vals.set_table_styles([{\n",
    "    'selector': 'caption',\n",
    "    'props': [\n",
    "        ('caption-side', 'top'),\n",
    "        ('font-size', '20px'),\n",
    "        ('font-style', 'italic'),\n",
    "        ('text-align', 'center'),\n",
    "        ('color', '#222')\n",
    "    ]\n",
    "}])\n",
    "\n",
    "styled_prop_vals"
   ]
  },
  {
   "cell_type": "markdown",
   "metadata": {},
   "source": [
    "These summaries exhibit, on the right, how incredibly high the variation in property values is across zip code tabulation areas (ZCTAs). "
   ]
  },
  {
   "cell_type": "markdown",
   "metadata": {},
   "source": [
    "## Plots \\& Figures"
   ]
  },
  {
   "cell_type": "code",
   "execution_count": null,
   "metadata": {},
   "outputs": [
    {
     "data": {
      "image/png": "[encoded data removed]",
      "text/plain": [
       "<Figure size 640x480 with 1 Axes>"
      ]
     },
     "metadata": {},
     "output_type": "display_data"
    }
   ],
   "source": [
    "# Filter the data where mmi_per_thousand is greater than 20\n",
    "filtered_data_high_mmi = filtered_data[filtered_data['mmi_per_thousand'] > 20]\n",
    "\n",
    "# Plot the histogram of value_change\n",
    "plt.hist(filtered_data_high_mmi['value_change'], bins=30, edgecolor='black')\n",
    "plt.xlabel('Value Change')\n",
    "plt.ylabel('Frequency')\n",
    "plt.title('Histogram of Value Change for MMI per Thousand > 20')\n",
    "plt.show()"
   ]
  },
  {
   "cell_type": "code",
   "execution_count": 166,
   "metadata": {},
   "outputs": [
    {
     "data": {
      "image/png": "[encoded data removed]",
      "text/plain": [
       "<Figure size 640x480 with 1 Axes>"
      ]
     },
     "metadata": {},
     "output_type": "display_data"
    }
   ],
   "source": [
    "filtered_data = data_table[(data_table['mmi_per_thousand'].abs() < 100)]\n",
    "plt.scatter(filtered_data['mmi_per_thousand'], filtered_data['change_from_metro'])\n",
    "plt.xlabel('Minority Move-ins per Thousand')\n",
    "plt.ylabel('Value Change')\n",
    "plt.title('Scatter Plot of Minority Move-ins per Thousand vs Value Change (Filtered)')\n",
    "plt.show()"
   ]
  },
  {
   "cell_type": "code",
   "execution_count": null,
   "metadata": {},
   "outputs": [
    {
     "data": {
      "image/png": "[encoded data removed]",
      "text/plain": [
       "<Figure size 640x480 with 1 Axes>"
      ]
     },
     "metadata": {},
     "output_type": "display_data"
    }
   ],
   "source": [
    "filtered_data = data_table[(data_table['mmi_per_thousand'].abs() < 100)]\n",
    "plt.scatter(filtered_data['mmi_per_thousand'], filtered_data['avg_value_2023'])\n",
    "plt.show()"
   ]
  },
  {
   "cell_type": "code",
   "execution_count": null,
   "metadata": {},
   "outputs": [],
   "source": [
    "filtered_data = data_table[(data_table['mmi_per_thousand'].abs() < 100)]\n",
    "plt.scatter(filtered_data['mmi_per_thousand'], filtered_data['avg_value_2012'])\n",
    "plt.xlabel('MMI per Thousand')\n",
    "plt.ylabel('Average Value (2012)')\n",
    "plt.title('Scatter Plot of MMI vs Average Value (2012)')\n",
    "plt.tight_layout()\n",
    "plt.show()"
   ]
  },
  {
   "cell_type": "markdown",
   "metadata": {},
   "source": [
    "## Conclusion"
   ]
  },
  {
   "cell_type": "markdown",
   "metadata": {},
   "source": [
    "## References"
   ]
  },
  {
   "cell_type": "markdown",
   "metadata": {},
   "source": [
    "Manson, S., Schroeder, J., Van Riper, D., Knowles, K., Kugler, T., Roberts, F., & Ruggles, S. (2024). *National Historical Geographic Information System: Version 19.0* [Dataset]. Minneapolis, MN: IPUMS. https://doi.org/10.18128/D050.V19.0"
   ]
  }
 ],
 "metadata": {
  "kernelspec": {
   "display_name": "base",
   "language": "python",
   "name": "python3"
  },
  "language_info": {
   "codemirror_mode": {
    "name": "ipython",
    "version": 3
   },
   "file_extension": ".py",
   "mimetype": "text/x-python",
   "name": "python",
   "nbconvert_exporter": "python",
   "pygments_lexer": "ipython3",
   "version": "3.12.7"
  }
 },
 "nbformat": 4,
 "nbformat_minor": 2
}
