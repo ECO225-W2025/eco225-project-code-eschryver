{
 "cells": [
  {
   "cell_type": "markdown",
   "metadata": {},
   "source": [
    "# Blockbusting in the 21st Century?: Minority Move-ins and Neighborhood Home Value Appreciation"
   ]
  },
  {
   "cell_type": "markdown",
   "metadata": {},
   "source": [
    "## Introduction\n"
   ]
  },
  {
   "cell_type": "markdown",
   "metadata": {},
   "source": [
    "I am using the [**Fannie Mae (FNMA) \\& Freddie Mac (FHLMC)**](https://web.archive.org/web/20240914151448/https://www.fhfa.gov/data/single-family-census-tract-file) data to analyze the demographics of move-ins on a census-tract level. This, with the census-level demographic data [**(ACS)**](https://www.nhgis.org/), can provide an estimate of a quantity of minority \"move-ins\". I am seeing the extent to which this has an effect on the appreciation in home values [(**Zillow ZHVI**)](https://www.zillow.com/research/data/)\n",
    "\n",
    "My **y-variable** is census-tract property value appreciation. My main **explanatory variables** are minority move-ins and previous neighborhood demographics. I will be controlling for income."
   ]
  },
  {
   "cell_type": "markdown",
   "metadata": {},
   "source": [
    "## Data Loading"
   ]
  },
  {
   "cell_type": "markdown",
   "metadata": {},
   "source": [
    "We start by loading libraries. For dataframes we are using `pandas`, for plots we are using `pyplot` from `matplotlib`."
   ]
  },
  {
   "cell_type": "code",
   "execution_count": 15,
   "metadata": {},
   "outputs": [],
   "source": [
    "import pandas as pd\n",
    "import matplotlib.pyplot as plt"
   ]
  },
  {
   "cell_type": "markdown",
   "metadata": {},
   "source": [
    "Because the data is in ``.txt`` format, with no column headers, and is in many different files for different years and loan types, some light data cleaning is required. To begin, we set up short titles for each column based on the data dictionary provided, and create a list of columns we do not need."
   ]
  },
  {
   "cell_type": "code",
   "execution_count": 16,
   "metadata": {},
   "outputs": [],
   "source": [
    "def read_columns_from_txt(filename):\n",
    "    data = {}\n",
    "    with open(filename, \"r\") as f:\n",
    "        for line in f:\n",
    "            key, value = line.split(\"=\", 1)\n",
    "            data[key.strip()] = eval(value.strip())\n",
    "    return data\n",
    "\n",
    "columns_data = read_columns_from_txt(\"data/columns.txt\")"
   ]
  },
  {
   "cell_type": "code",
   "execution_count": 24,
   "metadata": {},
   "outputs": [],
   "source": [
    "def load_loans(years):\n",
    "    loans_list = []\n",
    "    for year in years:\n",
    "        if year >= 2018: # The data format changes in 2018\n",
    "            files = [f\"data/sf/fhlmc_sf{year}c_loans.txt\", f\"data/sf/fnma_sf{year}c_loans.txt\"]\n",
    "            loans_year = pd.concat(\n",
    "                [pd.read_csv(file, sep=r\"\\s+\", header=None, names=cols).drop(columns=dropcols) for file in files],\n",
    "                ignore_index=True\n",
    "            )\n",
    "        else:\n",
    "            files = [f\"data/sf/fhlmc_sf{year}c_loans.txt\", f\"data/sf/fnma_sf{year}c_loans.txt\"]\n",
    "            loans_year = pd.concat(\n",
    "                [pd.read_csv(file, sep=r\"\\s+\", header=None, names=cols_pre2018).drop(columns=dropcols_pre2018) for file in files],\n",
    "                ignore_index=True\n",
    "            )\n",
    "        loans_year[\"year\"] = year\n",
    "        loans_list.append(loans_year)\n",
    "        print(f\"Processed {year}\", end=\" \") # Please forgive the print statement! The full data can take upwards of 20 mins to load.\n",
    "    return pd.concat(loans_list, ignore_index=True)"
   ]
  },
  {
   "cell_type": "code",
   "execution_count": null,
   "metadata": {},
   "outputs": [
    {
     "name": "stdout",
     "output_type": "stream",
     "text": [
      "Processed 2013Processed 2014Processed 2015"
     ]
    }
   ],
   "source": [
    "loans = load_loans([2013, 2014, 2015])"
   ]
  },
  {
   "cell_type": "markdown",
   "metadata": {},
   "source": [
    "Next, we load in the census data to give us information about neighborhood demographics"
   ]
  },
  {
   "cell_type": "code",
   "execution_count": 19,
   "metadata": {},
   "outputs": [],
   "source": [
    "cols_tract = ['YEAR', 'TRACTA','U7J001', 'U7J002', 'U7J003', 'U7J004', 'U7J005', 'U7J006', 'U7J007', 'U7J008']\n",
    "tract_data = pd.read_csv('data/census/nhgis0009_ds258_2020_zcta.csv')[cols_tract]\n",
    "tract_data.rename(columns={\n",
    "    'YEAR': 'year', \n",
    "    'TRACTA': 'census_tract', \n",
    "    'U7J001': 'total_pop', \n",
    "    'U7J002': 'white', \n",
    "    'U7J003': 'black', \n",
    "    'U7J004': 'native_american', \n",
    "    'U7J005': 'asian', \n",
    "    'U7J006': 'pacific_islander', \n",
    "    'U7J007': 'other_race', \n",
    "    'U7J008': 'two_or_more'}, inplace=True)"
   ]
  },
  {
   "cell_type": "markdown",
   "metadata": {},
   "source": [
    "Next, we load in the Zillow data for information about home prices"
   ]
  },
  {
   "cell_type": "code",
   "execution_count": 20,
   "metadata": {},
   "outputs": [],
   "source": [
    "zhvi = pd.read_csv('data/zhvi/Zip_zhvi_uc_sfrcondo_tier_0.33_0.67_sm_sa_month (1).csv')"
   ]
  },
  {
   "cell_type": "markdown",
   "metadata": {},
   "source": [
    "The Zillow data is based on zip-code, but all our other data is based on census tract. As a result, we use a Crosswalk File from HUD."
   ]
  },
  {
   "cell_type": "code",
   "execution_count": 21,
   "metadata": {},
   "outputs": [],
   "source": [
    "crosswalk = pd.read_excel('data/census/ZIP_TRACT_122024.xlsx')"
   ]
  },
  {
   "cell_type": "code",
   "execution_count": 22,
   "metadata": {},
   "outputs": [],
   "source": [
    "# loans groupby census tract merge into crosswalk\n",
    "# crosswalk find high and low minority move-ins, etc?\n",
    "# merge with zhvi"
   ]
  },
  {
   "cell_type": "markdown",
   "metadata": {},
   "source": [
    "## Summary Statistics"
   ]
  },
  {
   "cell_type": "markdown",
   "metadata": {},
   "source": [
    "One potentially interesting summary statistic is the quantity of loans in 2023 in each metropolitan area. We use ``groupby`` to look at each individual MSA and the count of entries in the table for each to define ``vol_by_msa`` which is the loan volume in each MSA."
   ]
  },
  {
   "cell_type": "code",
   "execution_count": 23,
   "metadata": {},
   "outputs": [
    {
     "ename": "KeyError",
     "evalue": "\"['borrower_income', 'property_appraisal_value'] not in index\"",
     "output_type": "error",
     "traceback": [
      "\u001b[1;31m---------------------------------------------------------------------------\u001b[0m",
      "\u001b[1;31mKeyError\u001b[0m                                  Traceback (most recent call last)",
      "Cell \u001b[1;32mIn[23], line 1\u001b[0m\n\u001b[1;32m----> 1\u001b[0m loans[[\u001b[38;5;124m'\u001b[39m\u001b[38;5;124mtract_median_income\u001b[39m\u001b[38;5;124m'\u001b[39m, \u001b[38;5;124m'\u001b[39m\u001b[38;5;124mborrower_income\u001b[39m\u001b[38;5;124m'\u001b[39m, \u001b[38;5;124m'\u001b[39m\u001b[38;5;124mproperty_appraisal_value\u001b[39m\u001b[38;5;124m'\u001b[39m]]\u001b[38;5;241m.\u001b[39mdescribe()\n",
      "File \u001b[1;32mc:\\Users\\emers\\anaconda3\\Lib\\site-packages\\pandas\\core\\frame.py:4108\u001b[0m, in \u001b[0;36mDataFrame.__getitem__\u001b[1;34m(self, key)\u001b[0m\n\u001b[0;32m   4106\u001b[0m     \u001b[38;5;28;01mif\u001b[39;00m is_iterator(key):\n\u001b[0;32m   4107\u001b[0m         key \u001b[38;5;241m=\u001b[39m \u001b[38;5;28mlist\u001b[39m(key)\n\u001b[1;32m-> 4108\u001b[0m     indexer \u001b[38;5;241m=\u001b[39m \u001b[38;5;28mself\u001b[39m\u001b[38;5;241m.\u001b[39mcolumns\u001b[38;5;241m.\u001b[39m_get_indexer_strict(key, \u001b[38;5;124m\"\u001b[39m\u001b[38;5;124mcolumns\u001b[39m\u001b[38;5;124m\"\u001b[39m)[\u001b[38;5;241m1\u001b[39m]\n\u001b[0;32m   4110\u001b[0m \u001b[38;5;66;03m# take() does not accept boolean indexers\u001b[39;00m\n\u001b[0;32m   4111\u001b[0m \u001b[38;5;28;01mif\u001b[39;00m \u001b[38;5;28mgetattr\u001b[39m(indexer, \u001b[38;5;124m\"\u001b[39m\u001b[38;5;124mdtype\u001b[39m\u001b[38;5;124m\"\u001b[39m, \u001b[38;5;28;01mNone\u001b[39;00m) \u001b[38;5;241m==\u001b[39m \u001b[38;5;28mbool\u001b[39m:\n",
      "File \u001b[1;32mc:\\Users\\emers\\anaconda3\\Lib\\site-packages\\pandas\\core\\indexes\\base.py:6200\u001b[0m, in \u001b[0;36mIndex._get_indexer_strict\u001b[1;34m(self, key, axis_name)\u001b[0m\n\u001b[0;32m   6197\u001b[0m \u001b[38;5;28;01melse\u001b[39;00m:\n\u001b[0;32m   6198\u001b[0m     keyarr, indexer, new_indexer \u001b[38;5;241m=\u001b[39m \u001b[38;5;28mself\u001b[39m\u001b[38;5;241m.\u001b[39m_reindex_non_unique(keyarr)\n\u001b[1;32m-> 6200\u001b[0m \u001b[38;5;28mself\u001b[39m\u001b[38;5;241m.\u001b[39m_raise_if_missing(keyarr, indexer, axis_name)\n\u001b[0;32m   6202\u001b[0m keyarr \u001b[38;5;241m=\u001b[39m \u001b[38;5;28mself\u001b[39m\u001b[38;5;241m.\u001b[39mtake(indexer)\n\u001b[0;32m   6203\u001b[0m \u001b[38;5;28;01mif\u001b[39;00m \u001b[38;5;28misinstance\u001b[39m(key, Index):\n\u001b[0;32m   6204\u001b[0m     \u001b[38;5;66;03m# GH 42790 - Preserve name from an Index\u001b[39;00m\n",
      "File \u001b[1;32mc:\\Users\\emers\\anaconda3\\Lib\\site-packages\\pandas\\core\\indexes\\base.py:6252\u001b[0m, in \u001b[0;36mIndex._raise_if_missing\u001b[1;34m(self, key, indexer, axis_name)\u001b[0m\n\u001b[0;32m   6249\u001b[0m     \u001b[38;5;28;01mraise\u001b[39;00m \u001b[38;5;167;01mKeyError\u001b[39;00m(\u001b[38;5;124mf\u001b[39m\u001b[38;5;124m\"\u001b[39m\u001b[38;5;124mNone of [\u001b[39m\u001b[38;5;132;01m{\u001b[39;00mkey\u001b[38;5;132;01m}\u001b[39;00m\u001b[38;5;124m] are in the [\u001b[39m\u001b[38;5;132;01m{\u001b[39;00maxis_name\u001b[38;5;132;01m}\u001b[39;00m\u001b[38;5;124m]\u001b[39m\u001b[38;5;124m\"\u001b[39m)\n\u001b[0;32m   6251\u001b[0m not_found \u001b[38;5;241m=\u001b[39m \u001b[38;5;28mlist\u001b[39m(ensure_index(key)[missing_mask\u001b[38;5;241m.\u001b[39mnonzero()[\u001b[38;5;241m0\u001b[39m]]\u001b[38;5;241m.\u001b[39munique())\n\u001b[1;32m-> 6252\u001b[0m \u001b[38;5;28;01mraise\u001b[39;00m \u001b[38;5;167;01mKeyError\u001b[39;00m(\u001b[38;5;124mf\u001b[39m\u001b[38;5;124m\"\u001b[39m\u001b[38;5;132;01m{\u001b[39;00mnot_found\u001b[38;5;132;01m}\u001b[39;00m\u001b[38;5;124m not in index\u001b[39m\u001b[38;5;124m\"\u001b[39m)\n",
      "\u001b[1;31mKeyError\u001b[0m: \"['borrower_income', 'property_appraisal_value'] not in index\""
     ]
    }
   ],
   "source": [
    "loans[['tract_median_income', 'borrower_income', 'property_appraisal_value']].describe()"
   ]
  },
  {
   "cell_type": "markdown",
   "metadata": {},
   "source": [
    "## Plots \\& Figures"
   ]
  },
  {
   "cell_type": "code",
   "execution_count": 16,
   "metadata": {},
   "outputs": [
    {
     "data": {
      "text/plain": [
       "<Axes: ylabel='Frequency'>"
      ]
     },
     "execution_count": 16,
     "metadata": {},
     "output_type": "execute_result"
    },
    {
     "data": {
      "image/png": "[encoded data removed]",
      "text/plain": [
       "<Figure size 700x400 with 1 Axes>"
      ]
     },
     "metadata": {},
     "output_type": "display_data"
    }
   ],
   "source": [
    "loans.groupby('census_tract_2020')[\"borrower_income\"].mean().sort_values(ascending=False).plot(kind='hist', figsize=(7, 4))"
   ]
  },
  {
   "cell_type": "code",
   "execution_count": 17,
   "metadata": {},
   "outputs": [],
   "source": [
    "# vol_by_msa.head(10).plot(kind='bar', figsize=(7, 4))\n",
    "# plt.title('Top 10 MSAs by 2023 Multifamily Loan Count')\n",
    "# plt.xlabel('MSA Code')\n",
    "# plt.ylabel('Loan Count')\n",
    "# plt.show()"
   ]
  },
  {
   "cell_type": "code",
   "execution_count": 18,
   "metadata": {},
   "outputs": [],
   "source": [
    "# msa_filtered = mf_loans_2023[mf_loans_2023['msa_name'].isin([\"'Omaha-Council Bluffs, NE-IA MSA'\", \"'Kansas City, MO-KS MSA'\"])]\n",
    "# msa_filtered.groupby('msa_name')[\"prop_val\"].mean().sort_values(ascending=False).plot(kind='bar', figsize=(7, 4))\n",
    "# plt.title('Average Multifamily Property Value for Selected MSAs, 2023')\n",
    "# plt.xlabel('MSA Name')\n",
    "# plt.ylabel('Average Property Value')\n",
    "# plt.show()"
   ]
  },
  {
   "cell_type": "code",
   "execution_count": 19,
   "metadata": {},
   "outputs": [],
   "source": [
    "# msas_2023_values = sf_loans_2023.groupby('Metropolitan Statistical Area (MSA) Code')[\"Property Valuation Amount\"].mean().sort_values(ascending=False)\n",
    "# msas_2018_values = sf_loans_2018.groupby('Metropolitan Statistical Area (MSA) Code')[\"Property Valuation Amount\"].mean().sort_values(ascending=False)\n",
    "# msa_values_by_year = pd.concat([msas_2023_values, msas_2018_values], axis=1)\n",
    "# msa_values_by_year.columns = ['2023', '2018']\n",
    "# plt.scatter(msa_values_by_year['2023'], msa_values_by_year['2018'])\n",
    "# plt.xlabel('2023 Property Valuation Amount')\n",
    "# plt.ylabel('2018 Property Valuation Amount')\n",
    "# plt.title('Property Valuation Amount Comparison: 2023 vs 2018')\n",
    "# plt.show()"
   ]
  },
  {
   "cell_type": "code",
   "execution_count": 20,
   "metadata": {},
   "outputs": [],
   "source": [
    "# msa_value_change = msa_values_by_year['2023'] - msa_values_by_year['2018']\n",
    "# msa_value_change.sort_values(ascending=False).plot(kind='hist', figsize=(7, 4))\n",
    "# plt.title('Change in Property Valuation Amount by MSA: 2023 vs 2018')\n",
    "# plt.xlabel('Change in Property Valuation Amount')\n",
    "# plt.ylabel('Count')"
   ]
  },
  {
   "cell_type": "markdown",
   "metadata": {},
   "source": [
    "## Conclusion"
   ]
  },
  {
   "cell_type": "markdown",
   "metadata": {},
   "source": [
    "## References\n",
    "Steven Manson, Jonathan Schroeder, David Van Riper, Katherine Knowles, Tracy Kugler, Finn Roberts, and Steven Ruggles. IPUMS National Historical Geographic Information System: Version 19.0 [dataset]. Minneapolis, MN: IPUMS. 2024. http://doi.org/10.18128/D050.V19.0"
   ]
  }
 ],
 "metadata": {
  "kernelspec": {
   "display_name": "base",
   "language": "python",
   "name": "python3"
  },
  "language_info": {
   "codemirror_mode": {
    "name": "ipython",
    "version": 3
   },
   "file_extension": ".py",
   "mimetype": "text/x-python",
   "name": "python",
   "nbconvert_exporter": "python",
   "pygments_lexer": "ipython3",
   "version": "3.12.7"
  }
 },
 "nbformat": 4,
 "nbformat_minor": 2
}
